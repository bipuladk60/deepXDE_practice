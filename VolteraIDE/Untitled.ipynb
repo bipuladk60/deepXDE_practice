{
 "cells": [
  {
   "cell_type": "code",
   "execution_count": 4,
   "id": "81f2ea88-dc4e-48e9-8eb6-56e800e29395",
   "metadata": {},
   "outputs": [],
   "source": [
    "import deepxde as dde\n",
    "import numpy as np\n",
    "from deepxde.backend import tf\n",
    "import matplotlib.pyplot as plt"
   ]
  },
  {
   "cell_type": "code",
   "execution_count": 5,
   "id": "66cd7497-2fd5-47c4-9561-f598025a106a",
   "metadata": {},
   "outputs": [],
   "source": [
    "def ide(x, y, int_mat):\n",
    "    rhs = tf.matmul(int_mat, y)\n",
    "    lhs1 = tf.gradients(y, x)[0]\n",
    "    return (lhs1 + y)[: tf.size(rhs)] - rhs"
   ]
  },
  {
   "cell_type": "code",
   "execution_count": 6,
   "id": "e5aa80b8-1254-4849-ae74-d4010f2d91db",
   "metadata": {},
   "outputs": [],
   "source": [
    "def kernel(x, s):\n",
    "    return np.exp(s - x)"
   ]
  },
  {
   "cell_type": "code",
   "execution_count": 7,
   "id": "80671e6f-cbfb-46c2-b2bd-bc9e5cf0f402",
   "metadata": {},
   "outputs": [],
   "source": [
    "def func(x):\n",
    "    return np.exp(-x) * np.cosh(x)"
   ]
  },
  {
   "cell_type": "code",
   "execution_count": 8,
   "id": "24e2e081-80e4-4d83-8a3f-dbb88c377cf4",
   "metadata": {},
   "outputs": [],
   "source": [
    "geom = dde.geometry.TimeDomain(0, 5)\n",
    "ic = dde.icbc.IC(geom, func, lambda _, on_initial: on_initial)"
   ]
  },
  {
   "cell_type": "code",
   "execution_count": 13,
   "id": "1ee3918a-be5a-41c6-88c3-74201079c69c",
   "metadata": {},
   "outputs": [],
   "source": [
    "quad_deg = 20\n",
    "data = dde.data.IDE(\n",
    "    geom,\n",
    "    ide,\n",
    "    ic,\n",
    "    quad_deg,\n",
    "    kernel=kernel,\n",
    "    num_domain=10,\n",
    "    num_boundary=2,\n",
    "    train_distribution=\"uniform\",\n",
    ")"
   ]
  },
  {
   "cell_type": "code",
   "execution_count": 14,
   "id": "1f040ac4-4258-4aab-b5e4-7b2b8406d977",
   "metadata": {},
   "outputs": [],
   "source": [
    "layer_size = [1] + [20] * 3 + [1]\n",
    "activation = \"tanh\"\n",
    "initializer = \"Glorot uniform\"\n",
    "net = dde.nn.FNN(layer_size, activation, initializer)"
   ]
  },
  {
   "cell_type": "code",
   "execution_count": 26,
   "id": "345a2046-ec1d-41da-b19f-c46da33ad7c5",
   "metadata": {},
   "outputs": [
    {
     "name": "stdout",
     "output_type": "stream",
     "text": [
      "Compiling model...\n",
      "'compile' took 0.207895 s\n",
      "\n",
      "Training model...\n",
      "\n",
      "0         [6.85e-02, 1.00e+00]    [6.85e-02, 0.00e+00]    []  \n",
      "1000      [1.04e-06, 7.19e-12]    [1.04e-06, 0.00e+00]    []  \n",
      "2000      [6.14e-07, 9.23e-08]    [6.14e-07, 0.00e+00]    []  \n",
      "3000      [6.16e-07, 6.57e-12]    [6.16e-07, 0.00e+00]    []  \n",
      "4000      [5.31e-07, 3.55e-15]    [5.31e-07, 0.00e+00]    []  \n",
      "5000      [1.19e-05, 1.32e-07]    [1.19e-05, 0.00e+00]    []  \n",
      "6000      [5.05e-07, 6.87e-07]    [5.05e-07, 0.00e+00]    []  \n",
      "7000      [2.46e-07, 1.13e-10]    [2.46e-07, 0.00e+00]    []  \n",
      "8000      [1.16e-06, 2.78e-06]    [1.16e-06, 0.00e+00]    []  \n",
      "9000      [2.00e-07, 1.13e-06]    [2.00e-07, 0.00e+00]    []  \n",
      "10000     [1.03e-07, 4.72e-07]    [1.03e-07, 0.00e+00]    []  \n",
      "11000     [4.76e-08, 5.68e-14]    [4.76e-08, 0.00e+00]    []  \n",
      "12000     [5.08e-08, 2.40e-12]    [5.08e-08, 0.00e+00]    []  \n",
      "13000     [4.01e-08, 5.12e-13]    [4.01e-08, 0.00e+00]    []  \n",
      "14000     [4.58e-05, 1.26e-04]    [4.58e-05, 0.00e+00]    []  \n",
      "15000     [2.74e-08, 1.55e-11]    [2.74e-08, 0.00e+00]    []  \n",
      "16000     [1.49e-06, 4.29e-07]    [1.49e-06, 0.00e+00]    []  \n",
      "17000     [5.44e-08, 5.68e-14]    [5.44e-08, 0.00e+00]    []  \n",
      "18000     [5.54e-06, 9.18e-06]    [5.54e-06, 0.00e+00]    []  \n",
      "19000     [2.94e-08, 4.30e-11]    [2.94e-08, 0.00e+00]    []  \n",
      "20000     [2.73e-08, 7.32e-10]    [2.73e-08, 0.00e+00]    []  \n",
      "21000     [4.62e-08, 5.68e-14]    [4.62e-08, 0.00e+00]    []  \n",
      "22000     [1.90e-08, 1.84e-11]    [1.90e-08, 0.00e+00]    []  \n",
      "23000     [1.62e-08, 1.42e-12]    [1.62e-08, 0.00e+00]    []  \n",
      "24000     [1.73e-08, 1.15e-12]    [1.73e-08, 0.00e+00]    []  \n",
      "25000     [2.13e-05, 7.76e-05]    [2.13e-05, 0.00e+00]    []  \n",
      "26000     [3.04e-08, 2.53e-08]    [3.04e-08, 0.00e+00]    []  \n",
      "27000     [1.93e-08, 0.00e+00]    [1.93e-08, 0.00e+00]    []  \n",
      "28000     [1.21e-08, 2.40e-12]    [1.21e-08, 0.00e+00]    []  \n",
      "29000     [8.88e-09, 4.86e-12]    [8.88e-09, 0.00e+00]    []  \n",
      "30000     [1.01e-08, 5.68e-12]    [1.01e-08, 0.00e+00]    []  \n",
      "31000     [9.29e-09, 8.32e-09]    [9.29e-09, 0.00e+00]    []  \n",
      "32000     [8.63e-09, 6.82e-09]    [8.63e-09, 0.00e+00]    []  \n",
      "33000     [1.03e-08, 1.93e-08]    [1.03e-08, 0.00e+00]    []  \n",
      "34000     [3.09e-08, 1.42e-14]    [3.09e-08, 0.00e+00]    []  \n",
      "35000     [1.54e-08, 1.42e-14]    [1.54e-08, 0.00e+00]    []  \n",
      "36000     [8.48e-09, 5.68e-14]    [8.48e-09, 0.00e+00]    []  \n",
      "37000     [3.44e-09, 2.95e-10]    [3.44e-09, 0.00e+00]    []  \n",
      "38000     [7.84e-07, 1.63e-06]    [7.84e-07, 0.00e+00]    []  \n",
      "39000     [1.17e-06, 2.08e-06]    [1.17e-06, 0.00e+00]    []  \n",
      "40000     [4.42e-09, 1.91e-10]    [4.42e-09, 0.00e+00]    []  \n",
      "41000     [1.92e-08, 2.57e-08]    [1.92e-08, 0.00e+00]    []  \n",
      "42000     [5.02e-08, 3.30e-07]    [5.02e-08, 0.00e+00]    []  \n",
      "43000     [1.79e-08, 3.55e-15]    [1.79e-08, 0.00e+00]    []  \n",
      "44000     [5.17e-09, 6.96e-13]    [5.17e-09, 0.00e+00]    []  \n",
      "45000     [8.74e-09, 2.51e-08]    [8.74e-09, 0.00e+00]    []  \n",
      "46000     [2.18e-09, 1.55e-11]    [2.18e-09, 0.00e+00]    []  \n",
      "47000     [2.94e-09, 3.90e-09]    [2.94e-09, 0.00e+00]    []  \n",
      "48000     [2.15e-08, 0.00e+00]    [2.15e-08, 0.00e+00]    []  \n",
      "49000     [1.11e-08, 5.68e-14]    [1.11e-08, 0.00e+00]    []  \n",
      "50000     [3.59e-09, 0.00e+00]    [3.59e-09, 0.00e+00]    []  \n",
      "\n",
      "Best model at step 46000:\n",
      "  train loss: 2.20e-09\n",
      "  test loss: 2.18e-09\n",
      "  test metric: []\n",
      "\n",
      "'train' took 13.731495 s\n",
      "\n"
     ]
    },
    {
     "data": {
      "text/plain": [
       "(<deepxde.model.LossHistory at 0x179139d50>,\n",
       " <deepxde.model.TrainState at 0x1790b0f10>)"
      ]
     },
     "execution_count": 26,
     "metadata": {},
     "output_type": "execute_result"
    }
   ],
   "source": [
    "model = dde.Model(data, net)\n",
    "model.compile(\"adam\", lr=0.01)\n",
    "model.train(iterations=50000)"
   ]
  },
  {
   "cell_type": "code",
   "execution_count": null,
   "id": "24c59a86-ec14-479e-8b70-f73aafebd34b",
   "metadata": {},
   "outputs": [],
   "source": [
    "X = geom.uniform_points(100)\n",
    "y_true = func(X)\n",
    "y_pred = model.predict(X)\n",
    "print(\"L2 relative error:\", dde.metrics.l2_relative_error(y_true, y_pred))"
   ]
  },
  {
   "cell_type": "code",
   "execution_count": null,
   "id": "e6a50980-6d1f-426f-a75d-e3aee3fbed4b",
   "metadata": {},
   "outputs": [],
   "source": [
    "plt.figure()\n",
    "plt.plot(X, y_true, \"-\")\n",
    "plt.plot(X, y_pred, \"o\")\n",
    "plt.show()\n",
    "np.savetxt(\"txt.dat\", np.hstack((X, y_true, y_pred)))"
   ]
  },
  {
   "cell_type": "code",
   "execution_count": null,
   "id": "76302d14-d8b2-430e-a9f8-01aed315094a",
   "metadata": {},
   "outputs": [],
   "source": []
  }
 ],
 "metadata": {
  "kernelspec": {
   "display_name": "Python 3 (ipykernel)",
   "language": "python",
   "name": "python3"
  },
  "language_info": {
   "codemirror_mode": {
    "name": "ipython",
    "version": 3
   },
   "file_extension": ".py",
   "mimetype": "text/x-python",
   "name": "python",
   "nbconvert_exporter": "python",
   "pygments_lexer": "ipython3",
   "version": "3.11.4"
  }
 },
 "nbformat": 4,
 "nbformat_minor": 5
}
